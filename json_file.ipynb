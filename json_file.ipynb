{
 "cells": [
  {
   "cell_type": "code",
   "execution_count": 1,
   "metadata": {},
   "outputs": [],
   "source": [
    "import pandas as pd \n",
    "import numpy as np"
   ]
  },
  {
   "cell_type": "code",
   "execution_count": 2,
   "metadata": {},
   "outputs": [],
   "source": [
    "import json"
   ]
  },
  {
   "cell_type": "code",
   "execution_count": 3,
   "metadata": {},
   "outputs": [],
   "source": [
    "text = {\n",
    "    'Geeks': [\n",
    "        {\n",
    "            'Geekname': 'Sahil Kumar', \n",
    "            'subject': 'Data structures', \n",
    "            'Articles': 10\n",
    "        },\n",
    "        {\n",
    "            'Geekname': 'Pawan singh',\n",
    "            'subject': 'Algorithms', \n",
    "            'Articles': 16\n",
    "        }, \n",
    "        {\n",
    "            'Geekname': 'Ayush Goel', \n",
    "            'subject': 'Networking', \n",
    "            'Articles': 7\n",
    "        }\n",
    "    ]\n",
    "}"
   ]
  },
  {
   "cell_type": "code",
   "execution_count": 4,
   "metadata": {},
   "outputs": [],
   "source": [
    "json_file = json.dumps(text)"
   ]
  },
  {
   "cell_type": "code",
   "execution_count": 5,
   "metadata": {},
   "outputs": [],
   "source": [
    "json_file_new = json.loads(json_file)"
   ]
  },
  {
   "cell_type": "code",
   "execution_count": 7,
   "metadata": {},
   "outputs": [],
   "source": [
    "from pandas.io.json import json_normalize  "
   ]
  },
  {
   "cell_type": "code",
   "execution_count": 63,
   "metadata": {},
   "outputs": [
    {
     "data": {
      "text/html": [
       "<div>\n",
       "<style scoped>\n",
       "    .dataframe tbody tr th:only-of-type {\n",
       "        vertical-align: middle;\n",
       "    }\n",
       "\n",
       "    .dataframe tbody tr th {\n",
       "        vertical-align: top;\n",
       "    }\n",
       "\n",
       "    .dataframe thead th {\n",
       "        text-align: right;\n",
       "    }\n",
       "</style>\n",
       "<table border=\"1\" class=\"dataframe\">\n",
       "  <thead>\n",
       "    <tr style=\"text-align: right;\">\n",
       "      <th></th>\n",
       "      <th>Articles</th>\n",
       "      <th>Geekname</th>\n",
       "      <th>subject</th>\n",
       "    </tr>\n",
       "  </thead>\n",
       "  <tbody>\n",
       "    <tr>\n",
       "      <th>0</th>\n",
       "      <td>10</td>\n",
       "      <td>Sahil Kumar</td>\n",
       "      <td>Data structures</td>\n",
       "    </tr>\n",
       "    <tr>\n",
       "      <th>1</th>\n",
       "      <td>16</td>\n",
       "      <td>Pawan singh</td>\n",
       "      <td>Algorithms</td>\n",
       "    </tr>\n",
       "    <tr>\n",
       "      <th>2</th>\n",
       "      <td>7</td>\n",
       "      <td>Ayush Goel</td>\n",
       "      <td>Networking</td>\n",
       "    </tr>\n",
       "  </tbody>\n",
       "</table>\n",
       "</div>"
      ],
      "text/plain": [
       "   Articles     Geekname          subject\n",
       "0        10  Sahil Kumar  Data structures\n",
       "1        16  Pawan singh       Algorithms\n",
       "2         7   Ayush Goel       Networking"
      ]
     },
     "execution_count": 63,
     "metadata": {},
     "output_type": "execute_result"
    }
   ],
   "source": [
    "\n",
    "df = json_normalize(json_file_new['Geeks']) \n",
    "df.head() "
   ]
  },
  {
   "cell_type": "code",
   "execution_count": 39,
   "metadata": {},
   "outputs": [],
   "source": [
    "data = {\n",
    "\"header\": {\n",
    "\"type\": \"esummary\",\n",
    "\"version\": \"0.3\"\n",
    "},\n",
    "\"result\": {\n",
    "\"12967\": {\n",
    "\"uid\": \"12967\",\n",
    "\"pubdate\": \"1976 Dec 11\",\n",
    "\"epubdate\": \"\",\n",
    "\"source\": \"Eur J Biochem\",\n",
    "\"authors\": [\n",
    "{\n",
    "\"name\": \"Giannini I\",\n",
    "\"authtype\": \"Author\",\n",
    "\"clusterid\": \"\"\n",
    "},\n",
    "{\n",
    "\"name\": \"Baroncelli V\",\n",
    "\"authtype\": \"Author\",\n",
    "\"clusterid\": \"\"\n",
    "},\n",
    "{\n",
    "\"name\": \"Boccalon G\",\n",
    "\"authtype\": \"Author\",\n",
    "\"clusterid\": \"\"\n",
    "},\n",
    "{\n",
    "\"name\": \"Fasella P\",\n",
    "\"authtype\": \"Author\",\n",
    "\"clusterid\": \"\"\n",
    "}\n",
    "],\n",
    "\"lastauthor\": \"Fasella P\",\n",
    "\"title\": \"Kinetics of the interaction between aspartic aminotransferase and anions.\",\n",
    "\"sorttitle\": \"kinetics of the interaction between aspartic aminotransferase and anions\",\n",
    "\"volume\": \"71\",\n",
    "\"issue\": \"2\",\n",
    "\"pages\": \"475-81\",\n",
    "\"lang\": [\n",
    "\"eng\"\n",
    "],\n",
    "\"nlmuniqueid\": \"0107600\",\n",
    "\"issn\": \"0014-2956\",\n",
    "\"essn\": \"1432-1033\",\n",
    "\"pubtype\": [\n",
    "\"Journal Article\"\n",
    "],\n",
    "\"recordstatus\": \"PubMed - indexed for MEDLINE\",\n",
    "\"pubstatus\": \"4\",\n",
    "\"articleids\": [\n",
    "{\n",
    "\"idtype\": \"pubmed\",\n",
    "\"idtypen\": 1,\n",
    "\"value\": \"12967\"\n",
    "},\n",
    "{\n",
    "\"idtype\": \"doi\",\n",
    "\"idtypen\": 3,\n",
    "\"value\": \"10.1111/j.1432-1033.1976.tb11136.x\"\n",
    "},\n",
    "{\n",
    "\"idtype\": \"rid\",\n",
    "\"idtypen\": 8,\n",
    "\"value\": \"12967\"\n",
    "},\n",
    "{\n",
    "\"idtype\": \"eid\",\n",
    "\"idtypen\": 8,\n",
    "\"value\": \"12967\"\n",
    "}\n",
    "],\n",
    "\"history\": [\n",
    "{\n",
    "\"pubstatus\": \"pubmed\",\n",
    "\"date\": \"1976/12/11 00:00\"\n",
    "},\n",
    "{\n",
    "\"pubstatus\": \"medline\",\n",
    "\"date\": \"1976/12/11 00:01\"\n",
    "},\n",
    "{\n",
    "\"pubstatus\": \"entrez\",\n",
    "\"date\": \"1976/12/11 00:00\"\n",
    "}\n",
    "],\n",
    "\"references\": [],\n",
    "\"attributes\": [\n",
    "\"Has Abstract\"\n",
    "],\n",
    "\"pmcrefcount\": \"\",\n",
    "\"fulljournalname\": \"European journal of biochemistry\",\n",
    "\"elocationid\": \"\",\n",
    "\"doctype\": \"citation\",\n",
    "\"srccontriblist\": [],\n",
    "\"booktitle\": \"\",\n",
    "\"medium\": \"\",\n",
    "\"edition\": \"\",\n",
    "\"publisherlocation\": \"\",\n",
    "\"publishername\": \"\",\n",
    "\"srcdate\": \"\",\n",
    "\"reportnumber\": \"\",\n",
    "\"availablefromurl\": \"\",\n",
    "\"locationlabel\": \"\",\n",
    "\"doccontriblist\": [],\n",
    "\"docdate\": \"\",\n",
    "\"bookname\": \"\",\n",
    "\"chapter\": \"\",\n",
    "\"sortpubdate\": \"1976/12/11 00:00\",\n",
    "\"sortfirstauthor\": \"Giannini I\",\n",
    "\"vernaculartitle\": \"\"\n",
    "},\n",
    "\"uids\": [\n",
    "\"12967\"\n",
    "]\n",
    "}\n",
    "}"
   ]
  },
  {
   "cell_type": "code",
   "execution_count": 40,
   "metadata": {},
   "outputs": [],
   "source": [
    "json_file = json.dumps(data)"
   ]
  },
  {
   "cell_type": "code",
   "execution_count": 45,
   "metadata": {},
   "outputs": [],
   "source": [
    "python_file = json.loads(json_file)"
   ]
  },
  {
   "cell_type": "code",
   "execution_count": 46,
   "metadata": {},
   "outputs": [],
   "source": [
    "from pandas.io.json import json_normalize"
   ]
  },
  {
   "cell_type": "code",
   "execution_count": 57,
   "metadata": {},
   "outputs": [
    {
     "data": {
      "text/html": [
       "<div>\n",
       "<style scoped>\n",
       "    .dataframe tbody tr th:only-of-type {\n",
       "        vertical-align: middle;\n",
       "    }\n",
       "\n",
       "    .dataframe tbody tr th {\n",
       "        vertical-align: top;\n",
       "    }\n",
       "\n",
       "    .dataframe thead th {\n",
       "        text-align: right;\n",
       "    }\n",
       "</style>\n",
       "<table border=\"1\" class=\"dataframe\">\n",
       "  <thead>\n",
       "    <tr style=\"text-align: right;\">\n",
       "      <th></th>\n",
       "      <th>header.type</th>\n",
       "      <th>header.version</th>\n",
       "      <th>result.12967.articleids</th>\n",
       "      <th>result.12967.attributes</th>\n",
       "      <th>result.12967.authors</th>\n",
       "      <th>result.12967.availablefromurl</th>\n",
       "      <th>result.12967.bookname</th>\n",
       "      <th>result.12967.booktitle</th>\n",
       "      <th>result.12967.chapter</th>\n",
       "      <th>result.12967.doccontriblist</th>\n",
       "      <th>...</th>\n",
       "      <th>result.12967.sortpubdate</th>\n",
       "      <th>result.12967.sorttitle</th>\n",
       "      <th>result.12967.source</th>\n",
       "      <th>result.12967.srccontriblist</th>\n",
       "      <th>result.12967.srcdate</th>\n",
       "      <th>result.12967.title</th>\n",
       "      <th>result.12967.uid</th>\n",
       "      <th>result.12967.vernaculartitle</th>\n",
       "      <th>result.12967.volume</th>\n",
       "      <th>result.uids</th>\n",
       "    </tr>\n",
       "  </thead>\n",
       "  <tbody>\n",
       "    <tr>\n",
       "      <th>0</th>\n",
       "      <td>esummary</td>\n",
       "      <td>0.3</td>\n",
       "      <td>[{'idtype': 'pubmed', 'idtypen': 1, 'value': '...</td>\n",
       "      <td>[Has Abstract]</td>\n",
       "      <td>[{'name': 'Giannini I', 'authtype': 'Author', ...</td>\n",
       "      <td></td>\n",
       "      <td></td>\n",
       "      <td></td>\n",
       "      <td></td>\n",
       "      <td>[]</td>\n",
       "      <td>...</td>\n",
       "      <td>1976/12/11 00:00</td>\n",
       "      <td>kinetics of the interaction between aspartic a...</td>\n",
       "      <td>Eur J Biochem</td>\n",
       "      <td>[]</td>\n",
       "      <td></td>\n",
       "      <td>Kinetics of the interaction between aspartic a...</td>\n",
       "      <td>12967</td>\n",
       "      <td></td>\n",
       "      <td>71</td>\n",
       "      <td>[12967]</td>\n",
       "    </tr>\n",
       "  </tbody>\n",
       "</table>\n",
       "<p>1 rows × 46 columns</p>\n",
       "</div>"
      ],
      "text/plain": [
       "  header.type header.version  \\\n",
       "0    esummary            0.3   \n",
       "\n",
       "                             result.12967.articleids result.12967.attributes  \\\n",
       "0  [{'idtype': 'pubmed', 'idtypen': 1, 'value': '...          [Has Abstract]   \n",
       "\n",
       "                                result.12967.authors  \\\n",
       "0  [{'name': 'Giannini I', 'authtype': 'Author', ...   \n",
       "\n",
       "  result.12967.availablefromurl result.12967.bookname result.12967.booktitle  \\\n",
       "0                                                                              \n",
       "\n",
       "  result.12967.chapter result.12967.doccontriblist     ...      \\\n",
       "0                                               []     ...       \n",
       "\n",
       "  result.12967.sortpubdate                             result.12967.sorttitle  \\\n",
       "0         1976/12/11 00:00  kinetics of the interaction between aspartic a...   \n",
       "\n",
       "  result.12967.source result.12967.srccontriblist result.12967.srcdate  \\\n",
       "0       Eur J Biochem                          []                        \n",
       "\n",
       "                                  result.12967.title result.12967.uid  \\\n",
       "0  Kinetics of the interaction between aspartic a...            12967   \n",
       "\n",
       "  result.12967.vernaculartitle result.12967.volume result.uids  \n",
       "0                                               71     [12967]  \n",
       "\n",
       "[1 rows x 46 columns]"
      ]
     },
     "execution_count": 57,
     "metadata": {},
     "output_type": "execute_result"
    }
   ],
   "source": [
    "json_normalize(data = python_file)"
   ]
  },
  {
   "cell_type": "code",
   "execution_count": null,
   "metadata": {},
   "outputs": [],
   "source": []
  },
  {
   "cell_type": "code",
   "execution_count": 107,
   "metadata": {},
   "outputs": [],
   "source": [
    "data1 = {\"row 1\":{\"col 1\":\"a\", \"col 2\":\"b\"},\n",
    " \"row 2\":{\"col 1\":\"c\", \"col 2\":\"d\"}}"
   ]
  },
  {
   "cell_type": "code",
   "execution_count": 108,
   "metadata": {},
   "outputs": [],
   "source": [
    "json_file = json.dumps(data1)"
   ]
  },
  {
   "cell_type": "code",
   "execution_count": 109,
   "metadata": {},
   "outputs": [],
   "source": [
    "python_file = json.loads(json_file)"
   ]
  },
  {
   "cell_type": "code",
   "execution_count": 110,
   "metadata": {},
   "outputs": [],
   "source": [
    "#df = json_normalize(python_file['row 1', 'row 2']) \n",
    "#df.head() \n",
    "\n",
    "df = json_normalize(python_file, meta = ['row 1', 'row 2'])"
   ]
  },
  {
   "cell_type": "code",
   "execution_count": 111,
   "metadata": {},
   "outputs": [
    {
     "data": {
      "text/html": [
       "<div>\n",
       "<style scoped>\n",
       "    .dataframe tbody tr th:only-of-type {\n",
       "        vertical-align: middle;\n",
       "    }\n",
       "\n",
       "    .dataframe tbody tr th {\n",
       "        vertical-align: top;\n",
       "    }\n",
       "\n",
       "    .dataframe thead th {\n",
       "        text-align: right;\n",
       "    }\n",
       "</style>\n",
       "<table border=\"1\" class=\"dataframe\">\n",
       "  <thead>\n",
       "    <tr style=\"text-align: right;\">\n",
       "      <th></th>\n",
       "      <th>row 1.col 1</th>\n",
       "      <th>row 1.col 2</th>\n",
       "      <th>row 2.col 1</th>\n",
       "      <th>row 2.col 2</th>\n",
       "    </tr>\n",
       "  </thead>\n",
       "  <tbody>\n",
       "    <tr>\n",
       "      <th>0</th>\n",
       "      <td>a</td>\n",
       "      <td>b</td>\n",
       "      <td>c</td>\n",
       "      <td>d</td>\n",
       "    </tr>\n",
       "  </tbody>\n",
       "</table>\n",
       "</div>"
      ],
      "text/plain": [
       "  row 1.col 1 row 1.col 2 row 2.col 1 row 2.col 2\n",
       "0           a           b           c           d"
      ]
     },
     "execution_count": 111,
     "metadata": {},
     "output_type": "execute_result"
    }
   ],
   "source": [
    "df.head()"
   ]
  },
  {
   "cell_type": "code",
   "execution_count": 41,
   "metadata": {},
   "outputs": [],
   "source": [
    "import demjson"
   ]
  },
  {
   "cell_type": "code",
   "execution_count": 42,
   "metadata": {},
   "outputs": [],
   "source": [
    "var = [{\"Math\": 50, \"physics\":60, \"Chemistry\":70}] "
   ]
  },
  {
   "cell_type": "code",
   "execution_count": 43,
   "metadata": {},
   "outputs": [
    {
     "name": "stdout",
     "output_type": "stream",
     "text": [
      "[{\"Chemistry\":70,\"Math\":50,\"physics\":60}]\n"
     ]
    }
   ],
   "source": [
    "print(demjson.encode(var)) "
   ]
  },
  {
   "cell_type": "code",
   "execution_count": 44,
   "metadata": {},
   "outputs": [
    {
     "name": "stdout",
     "output_type": "stream",
     "text": [
      "[{\"Math\": 50, \"physics\": 60, \"Chemistry\": 70}]\n"
     ]
    }
   ],
   "source": [
    "print(json.dumps(var))"
   ]
  },
  {
   "cell_type": "code",
   "execution_count": null,
   "metadata": {},
   "outputs": [],
   "source": [
    "nycphil = json_normalize(d['programs']) \n",
    "nycphil.head(3) "
   ]
  },
  {
   "cell_type": "code",
   "execution_count": null,
   "metadata": {},
   "outputs": [],
   "source": []
  },
  {
   "cell_type": "code",
   "execution_count": 35,
   "metadata": {},
   "outputs": [],
   "source": [
    "import pandas as pd \n",
    "# Creating Dataframe  \n",
    "df = pd.DataFrame([['a', 'b'], ['c', 'd']], \n",
    "                  index =['row 1', 'row 2'], \n",
    "                  columns =['col 1', 'col 2'])"
   ]
  },
  {
   "cell_type": "code",
   "execution_count": 37,
   "metadata": {},
   "outputs": [
    {
     "name": "stdout",
     "output_type": "stream",
     "text": [
      "{\"columns\":[\"col 1\",\"col 2\"],\"index\":[\"row 1\",\"row 2\"],\"data\":[[\"a\",\"b\"],[\"c\",\"d\"]]}\n"
     ]
    }
   ],
   "source": [
    "# Indication of expected JSON string format \n",
    "print(df.to_json(orient ='split')) \n",
    "  "
   ]
  },
  {
   "cell_type": "code",
   "execution_count": 38,
   "metadata": {},
   "outputs": [
    {
     "name": "stdout",
     "output_type": "stream",
     "text": [
      "{\"row 1\":{\"col 1\":\"a\",\"col 2\":\"b\"},\"row 2\":{\"col 1\":\"c\",\"col 2\":\"d\"}}\n"
     ]
    }
   ],
   "source": [
    "print(df.to_json(orient ='index'))"
   ]
  },
  {
   "cell_type": "code",
   "execution_count": 104,
   "metadata": {},
   "outputs": [],
   "source": [
    "from pandas.io.json import json_normalize\n",
    "\n",
    "data = [{'id': 1, 'name': {'first': 'Coleen', 'last': 'Volk'}},\n",
    "        {'name': {'given': 'Mose', 'family': 'Regner'}},\n",
    "        {'id': 2, 'name': 'Faye Raker'}]\n"
   ]
  },
  {
   "cell_type": "code",
   "execution_count": 106,
   "metadata": {},
   "outputs": [
    {
     "data": {
      "text/html": [
       "<div>\n",
       "<style scoped>\n",
       "    .dataframe tbody tr th:only-of-type {\n",
       "        vertical-align: middle;\n",
       "    }\n",
       "\n",
       "    .dataframe tbody tr th {\n",
       "        vertical-align: top;\n",
       "    }\n",
       "\n",
       "    .dataframe thead th {\n",
       "        text-align: right;\n",
       "    }\n",
       "</style>\n",
       "<table border=\"1\" class=\"dataframe\">\n",
       "  <thead>\n",
       "    <tr style=\"text-align: right;\">\n",
       "      <th></th>\n",
       "      <th>id</th>\n",
       "      <th>name</th>\n",
       "      <th>name.family</th>\n",
       "      <th>name.first</th>\n",
       "      <th>name.given</th>\n",
       "      <th>name.last</th>\n",
       "    </tr>\n",
       "  </thead>\n",
       "  <tbody>\n",
       "    <tr>\n",
       "      <th>0</th>\n",
       "      <td>1.0</td>\n",
       "      <td>NaN</td>\n",
       "      <td>NaN</td>\n",
       "      <td>Coleen</td>\n",
       "      <td>NaN</td>\n",
       "      <td>Volk</td>\n",
       "    </tr>\n",
       "    <tr>\n",
       "      <th>1</th>\n",
       "      <td>NaN</td>\n",
       "      <td>NaN</td>\n",
       "      <td>Regner</td>\n",
       "      <td>NaN</td>\n",
       "      <td>Mose</td>\n",
       "      <td>NaN</td>\n",
       "    </tr>\n",
       "    <tr>\n",
       "      <th>2</th>\n",
       "      <td>2.0</td>\n",
       "      <td>Faye Raker</td>\n",
       "      <td>NaN</td>\n",
       "      <td>NaN</td>\n",
       "      <td>NaN</td>\n",
       "      <td>NaN</td>\n",
       "    </tr>\n",
       "  </tbody>\n",
       "</table>\n",
       "</div>"
      ],
      "text/plain": [
       "    id        name name.family name.first name.given name.last\n",
       "0  1.0         NaN         NaN     Coleen        NaN      Volk\n",
       "1  NaN         NaN      Regner        NaN       Mose       NaN\n",
       "2  2.0  Faye Raker         NaN        NaN        NaN       NaN"
      ]
     },
     "execution_count": 106,
     "metadata": {},
     "output_type": "execute_result"
    }
   ],
   "source": [
    "json_normalize(data, meta = ['id', [['name', 'first'], ['name', 'last']]])"
   ]
  },
  {
   "cell_type": "code",
   "execution_count": 113,
   "metadata": {},
   "outputs": [],
   "source": [
    "data = [{'state': 'Florida',\n",
    "          'shortname': 'FL',\n",
    "          'info': {\n",
    "               'governor': 'Rick Scott'\n",
    "          },\n",
    "          'counties': [{'name': 'Dade', 'population': 12345},\n",
    "                      {'name': 'Broward', 'population': 40000},\n",
    "                      {'name': 'Palm Beach', 'population': 60000}]},\n",
    "         {'state': 'Ohio',\n",
    "          'shortname': 'OH',\n",
    "          'info': {\n",
    "               'governor': 'John Kasich'\n",
    "          },\n",
    "          'counties': [{'name': 'Summit', 'population': 1234},\n",
    "                       {'name': 'Cuyahoga', 'population': 1337}]}]\n"
   ]
  },
  {
   "cell_type": "code",
   "execution_count": 114,
   "metadata": {},
   "outputs": [],
   "source": [
    "result = json_normalize(data, 'counties', ['state', 'shortname',\n",
    "                                           ['info', 'governor']])"
   ]
  },
  {
   "cell_type": "code",
   "execution_count": 115,
   "metadata": {},
   "outputs": [
    {
     "data": {
      "text/html": [
       "<div>\n",
       "<style scoped>\n",
       "    .dataframe tbody tr th:only-of-type {\n",
       "        vertical-align: middle;\n",
       "    }\n",
       "\n",
       "    .dataframe tbody tr th {\n",
       "        vertical-align: top;\n",
       "    }\n",
       "\n",
       "    .dataframe thead th {\n",
       "        text-align: right;\n",
       "    }\n",
       "</style>\n",
       "<table border=\"1\" class=\"dataframe\">\n",
       "  <thead>\n",
       "    <tr style=\"text-align: right;\">\n",
       "      <th></th>\n",
       "      <th>name</th>\n",
       "      <th>population</th>\n",
       "      <th>state</th>\n",
       "      <th>shortname</th>\n",
       "      <th>info.governor</th>\n",
       "    </tr>\n",
       "  </thead>\n",
       "  <tbody>\n",
       "    <tr>\n",
       "      <th>0</th>\n",
       "      <td>Dade</td>\n",
       "      <td>12345</td>\n",
       "      <td>Florida</td>\n",
       "      <td>FL</td>\n",
       "      <td>Rick Scott</td>\n",
       "    </tr>\n",
       "    <tr>\n",
       "      <th>1</th>\n",
       "      <td>Broward</td>\n",
       "      <td>40000</td>\n",
       "      <td>Florida</td>\n",
       "      <td>FL</td>\n",
       "      <td>Rick Scott</td>\n",
       "    </tr>\n",
       "    <tr>\n",
       "      <th>2</th>\n",
       "      <td>Palm Beach</td>\n",
       "      <td>60000</td>\n",
       "      <td>Florida</td>\n",
       "      <td>FL</td>\n",
       "      <td>Rick Scott</td>\n",
       "    </tr>\n",
       "    <tr>\n",
       "      <th>3</th>\n",
       "      <td>Summit</td>\n",
       "      <td>1234</td>\n",
       "      <td>Ohio</td>\n",
       "      <td>OH</td>\n",
       "      <td>John Kasich</td>\n",
       "    </tr>\n",
       "    <tr>\n",
       "      <th>4</th>\n",
       "      <td>Cuyahoga</td>\n",
       "      <td>1337</td>\n",
       "      <td>Ohio</td>\n",
       "      <td>OH</td>\n",
       "      <td>John Kasich</td>\n",
       "    </tr>\n",
       "  </tbody>\n",
       "</table>\n",
       "</div>"
      ],
      "text/plain": [
       "         name  population    state shortname info.governor\n",
       "0        Dade       12345  Florida        FL    Rick Scott\n",
       "1     Broward       40000  Florida        FL    Rick Scott\n",
       "2  Palm Beach       60000  Florida        FL    Rick Scott\n",
       "3      Summit        1234     Ohio        OH   John Kasich\n",
       "4    Cuyahoga        1337     Ohio        OH   John Kasich"
      ]
     },
     "execution_count": 115,
     "metadata": {},
     "output_type": "execute_result"
    }
   ],
   "source": [
    "result.head()"
   ]
  },
  {
   "cell_type": "code",
   "execution_count": 132,
   "metadata": {},
   "outputs": [],
   "source": [
    "data_new = { \n",
    "\"coin\":{\"id\":363,\"name\":\"Bitcoin\",\"code\":\"BTC\"},\n",
    "\"dataType\":\"marketCap\",\n",
    "\"baseCurrency\":\"USD\",\n",
    "\"data\":[{\"date\":\"2018-01-12\",\"marketCap\":\"232547809668.32000000\"},{\"date\":\"2018-01-13\",\"marketCap\":\"241311607656.32000000\"}]\n",
    "}"
   ]
  },
  {
   "cell_type": "code",
   "execution_count": 133,
   "metadata": {},
   "outputs": [],
   "source": [
    "file = json.loads(json.dumps(data_new))"
   ]
  },
  {
   "cell_type": "code",
   "execution_count": 134,
   "metadata": {},
   "outputs": [],
   "source": [
    "from pandas.io.json import json_normalize"
   ]
  },
  {
   "cell_type": "code",
   "execution_count": 139,
   "metadata": {},
   "outputs": [
    {
     "data": {
      "text/html": [
       "<div>\n",
       "<style scoped>\n",
       "    .dataframe tbody tr th:only-of-type {\n",
       "        vertical-align: middle;\n",
       "    }\n",
       "\n",
       "    .dataframe tbody tr th {\n",
       "        vertical-align: top;\n",
       "    }\n",
       "\n",
       "    .dataframe thead th {\n",
       "        text-align: right;\n",
       "    }\n",
       "</style>\n",
       "<table border=\"1\" class=\"dataframe\">\n",
       "  <thead>\n",
       "    <tr style=\"text-align: right;\">\n",
       "      <th></th>\n",
       "      <th>date</th>\n",
       "      <th>marketCap</th>\n",
       "      <th>coin.id</th>\n",
       "      <th>coin.name</th>\n",
       "      <th>coin.code</th>\n",
       "      <th>dataType</th>\n",
       "      <th>baseCurrency</th>\n",
       "    </tr>\n",
       "  </thead>\n",
       "  <tbody>\n",
       "    <tr>\n",
       "      <th>0</th>\n",
       "      <td>2018-01-12</td>\n",
       "      <td>232547809668.32000000</td>\n",
       "      <td>363</td>\n",
       "      <td>Bitcoin</td>\n",
       "      <td>BTC</td>\n",
       "      <td>marketCap</td>\n",
       "      <td>USD</td>\n",
       "    </tr>\n",
       "    <tr>\n",
       "      <th>1</th>\n",
       "      <td>2018-01-13</td>\n",
       "      <td>241311607656.32000000</td>\n",
       "      <td>363</td>\n",
       "      <td>Bitcoin</td>\n",
       "      <td>BTC</td>\n",
       "      <td>marketCap</td>\n",
       "      <td>USD</td>\n",
       "    </tr>\n",
       "  </tbody>\n",
       "</table>\n",
       "</div>"
      ],
      "text/plain": [
       "         date              marketCap  coin.id coin.name coin.code   dataType  \\\n",
       "0  2018-01-12  232547809668.32000000      363   Bitcoin       BTC  marketCap   \n",
       "1  2018-01-13  241311607656.32000000      363   Bitcoin       BTC  marketCap   \n",
       "\n",
       "  baseCurrency  \n",
       "0          USD  \n",
       "1          USD  "
      ]
     },
     "execution_count": 139,
     "metadata": {},
     "output_type": "execute_result"
    }
   ],
   "source": [
    "json_normalize(file, record_path = 'data', meta = [['coin', 'id'], ['coin', 'name'], ['coin', 'code'], \n",
    "                                                   'dataType', 'baseCurrency'])"
   ]
  },
  {
   "cell_type": "code",
   "execution_count": null,
   "metadata": {},
   "outputs": [],
   "source": []
  }
 ],
 "metadata": {
  "kernelspec": {
   "display_name": "Python [conda env:root] *",
   "language": "python",
   "name": "conda-root-py"
  },
  "language_info": {
   "codemirror_mode": {
    "name": "ipython",
    "version": 3
   },
   "file_extension": ".py",
   "mimetype": "text/x-python",
   "name": "python",
   "nbconvert_exporter": "python",
   "pygments_lexer": "ipython3",
   "version": "3.7.1"
  }
 },
 "nbformat": 4,
 "nbformat_minor": 2
}
